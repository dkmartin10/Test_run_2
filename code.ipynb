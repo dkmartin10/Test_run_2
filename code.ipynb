{
 "cells": [
  {
   "cell_type": "code",
   "execution_count": null,
   "metadata": {},
   "outputs": [],
   "source": [
    "# correct misspellings to St.\n",
    "def St(df):\n",
    "    df['County'].replace(['^Saint [a-z]*', '^Sainte [a-z]*','^St [a-z]*'], 'St. ', regex = True, inplace = True)\n",
    "    df['County, State'].replace(['^Saint [a-z]*', '^Sainte [a-z]*','^St [a-z]*'], 'St. ', regex = True, inplace = True)"
   ]
  },
  {
   "cell_type": "code",
   "execution_count": null,
   "metadata": {},
   "outputs": [],
   "source": [
    "# Drop duplicates\n",
    "# dup = county_chairs.duplicated(subset = ['County, State','Email'],keep=False)\n",
    "# print(county_chairs[dup])\n",
    "def drop_dup(df):\n",
    "    df.drop_duplicates(keep = 'first',inplace = True)"
   ]
  },
  {
   "cell_type": "code",
   "execution_count": null,
   "metadata": {},
   "outputs": [],
   "source": []
  }
 ],
 "metadata": {
  "kernelspec": {
   "display_name": "Python 3",
   "language": "python",
   "name": "python3"
  },
  "language_info": {
   "codemirror_mode": {
    "name": "ipython",
    "version": 3
   },
   "file_extension": ".py",
   "mimetype": "text/x-python",
   "name": "python",
   "nbconvert_exporter": "python",
   "pygments_lexer": "ipython3",
   "version": "3.8.3"
  }
 },
 "nbformat": 4,
 "nbformat_minor": 4
}
